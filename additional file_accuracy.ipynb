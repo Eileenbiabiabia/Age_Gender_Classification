{
 "cells": [
  {
   "cell_type": "code",
   "execution_count": 9,
   "id": "cb3e7854",
   "metadata": {},
   "outputs": [
    {
     "data": {
      "text/plain": [
       "'train epoch 10, 0 / 1037, loss age 0.011 age acc: 100.00% data/model times 218.5 ms, 15.5 ms\\n'"
      ]
     },
     "execution_count": 9,
     "metadata": {},
     "output_type": "execute_result"
    }
   ],
   "source": [
    "f = open(\"epoch.txt\",\"r\")\n",
    "lines = f.readlines() #读取全部内容 ，并以列表方式返回\n",
    "lines[0]"
   ]
  },
  {
   "cell_type": "code",
   "execution_count": 10,
   "id": "7911248f",
   "metadata": {},
   "outputs": [
    {
     "data": {
      "text/plain": [
       "['age acc: 100.00% data/model times 218.5 ms, 15.5 ms',\n",
       " 'age acc: 100.00% data/model times 220.3 ms, 16.3 ms',\n",
       " 'age acc: 100.00% data/model times 234.4 ms, 16.2 ms',\n",
       " 'age acc: 93.75% data/model times 217.0 ms, 15.3 ms',\n",
       " 'age acc: 100.00% data/model times 219.6 ms, 15.1 ms',\n",
       " 'age acc: 93.75% data/model times 225.3 ms, 15.0 ms',\n",
       " 'age acc: 100.00% data/model times 221.2 ms, 14.9 ms',\n",
       " 'age acc: 100.00% data/model times 234.9 ms, 22.8 ms',\n",
       " 'age acc: 87.50% data/model times 212.6 ms, 15.0 ms',\n",
       " 'age acc: 93.75% data/model times 217.4 ms, 15.3 ms',\n",
       " 'age acc: 93.75% data/model times 213.3 ms, 15.2 ms',\n",
       " 'age acc: 100.00% data/model times 215.6 ms, 14.9 ms',\n",
       " 'age acc: 100.00% data/model times 207.2 ms, 14.9 ms',\n",
       " 'age acc: 100.00% data/model times 213.9 ms, 15.7 ms',\n",
       " 'age acc: 81.25% data/model times 215.2 ms, 14.8 ms',\n",
       " 'age acc: 93.75% data/model times 223.2 ms, 15.5 ms',\n",
       " 'age acc: 93.75% data/model times 218.4 ms, 15.3 ms',\n",
       " 'age acc: 100.00% data/model times 221.0 ms, 15.3 ms',\n",
       " 'age acc: 100.00% data/model times 216.6 ms, 17.5 ms',\n",
       " 'age acc: 93.75% data/model times 217.9 ms, 15.1 ms',\n",
       " 'age acc: 100.00% data/model times 225.6 ms, 15.5 ms',\n",
       " 'age acc: 100.00% data/model times 226.7 ms, 15.1 ms',\n",
       " 'age acc: 93.75% data/model times 221.7 ms, 14.9 ms',\n",
       " 'age acc: 93.75% data/model times 216.8 ms, 14.8 ms',\n",
       " 'age acc: 100.00% data/model times 222.8 ms, 14.8 ms',\n",
       " 'age acc: 93.75% data/model times 219.4 ms, 15.2 ms',\n",
       " 'age acc: 100.00% data/model times 220.1 ms, 15.4 ms',\n",
       " 'age acc: 93.75% data/model times 217.8 ms, 15.2 ms',\n",
       " 'age acc: 93.75% data/model times 223.4 ms, 15.6 ms',\n",
       " 'age acc: 100.00% data/model times 229.5 ms, 15.8 ms',\n",
       " 'age acc: 93.75% data/model times 229.4 ms, 15.1 ms',\n",
       " 'age acc: 93.75% data/model times 202.7 ms, 14.9 ms',\n",
       " 'age acc: 100.00% data/model times 214.8 ms, 15.3 ms',\n",
       " 'age acc: 100.00% data/model times 215.9 ms, 14.8 ms',\n",
       " 'age acc: 100.00% data/model times 219.2 ms, 15.1 m']"
      ]
     },
     "execution_count": 10,
     "metadata": {},
     "output_type": "execute_result"
    }
   ],
   "source": [
    "cut_lines=[]\n",
    "for k in lines:\n",
    "    index=k.find('age acc: ')\n",
    "    # print(k[index:len(k)-1])\n",
    "    cut_lines.append(k[index:len(k)-1])\n",
    "cut_lines"
   ]
  },
  {
   "cell_type": "code",
   "execution_count": 11,
   "id": "70912cd6",
   "metadata": {},
   "outputs": [],
   "source": [
    "cut1_lines=[]\n",
    "for j in cut_lines:\n",
    "    index=j.find('data')\n",
    "    # print(j[0:index])\n",
    "    cut1_lines.append(j[0:index])\n",
    "# print(cut1_lines)\n"
   ]
  },
  {
   "cell_type": "code",
   "execution_count": 12,
   "id": "c28f6057",
   "metadata": {},
   "outputs": [
    {
     "name": "stdout",
     "output_type": "stream",
     "text": [
      "100.00% \n",
      "100.00% \n",
      "100.00% \n",
      "93.75% \n",
      "100.00% \n",
      "93.75% \n",
      "100.00% \n",
      "100.00% \n",
      "87.50% \n",
      "93.75% \n",
      "93.75% \n",
      "100.00% \n",
      "100.00% \n",
      "100.00% \n",
      "81.25% \n",
      "93.75% \n",
      "93.75% \n",
      "100.00% \n",
      "100.00% \n",
      "93.75% \n",
      "100.00% \n",
      "100.00% \n",
      "93.75% \n",
      "93.75% \n",
      "100.00% \n",
      "93.75% \n",
      "100.00% \n",
      "93.75% \n",
      "93.75% \n",
      "100.00% \n",
      "93.75% \n",
      "93.75% \n",
      "100.00% \n",
      "100.00% \n",
      "100.00% \n"
     ]
    }
   ],
   "source": [
    "cut2_lines=[]\n",
    "for j in cut1_lines:\n",
    "    index=j.find(':')\n",
    "    print(j[index+2:])\n",
    "    cut2_lines.append(j[index+2:])"
   ]
  },
  {
   "cell_type": "code",
   "execution_count": null,
   "id": "e9e74e10",
   "metadata": {},
   "outputs": [],
   "source": []
  }
 ],
 "metadata": {
  "kernelspec": {
   "display_name": "Python 3 (ipykernel)",
   "language": "python",
   "name": "python3"
  },
  "language_info": {
   "codemirror_mode": {
    "name": "ipython",
    "version": 3
   },
   "file_extension": ".py",
   "mimetype": "text/x-python",
   "name": "python",
   "nbconvert_exporter": "python",
   "pygments_lexer": "ipython3",
   "version": "3.9.7"
  }
 },
 "nbformat": 4,
 "nbformat_minor": 5
}
